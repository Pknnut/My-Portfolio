{
 "cells":[
  {
   "cell_type":"markdown",
   "source":[
    "# About Company\n",
    "\n",
    "Bellabeat, a high-tech manufacturer of health-focused products for women. Bellabeat is a successful small company,\n",
    "but they have the potential to become a larger player in the global smart device market. Urška Sršen, cofounder and \n",
    "Chief Creative Officer of Bellabeat, believes that analyzing smart device fitness data could help unlock new growth \n",
    "opportunities for the company."
   ],
   "attachments":{
    
   },
   "metadata":{
    "datalore":{
     "node_id":"7gCE85etxQy0hJJo0B6yOx",
     "type":"MD",
     "hide_input_from_viewers":true,
     "hide_output_from_viewers":true
    }
   }
  },
  {
   "cell_type":"markdown",
   "source":[
    "# Questions for the analysis\n",
    "\n",
    "1.What are some trends in smart device usage? \n",
    "\n",
    "2.How could these trends apply to Bellabeat customers? \n",
    "\n",
    "3.How could these trends help influence Bellabeat marketing strategy?"
   ],
   "attachments":{
    
   },
   "metadata":{
    "datalore":{
     "node_id":"rj5s7s0B91TRe5WQ3yI1z5",
     "type":"MD",
     "hide_input_from_viewers":true,
     "hide_output_from_viewers":true
    }
   }
  },
  {
   "cell_type":"markdown",
   "source":[
    "# Business Task\n",
    "\n",
    "Utilize smart device usage data to identify potential trends, enhancing our marketing strategy for optimal company growth opportunities."
   ],
   "attachments":{
    
   },
   "metadata":{
    "datalore":{
     "node_id":"0qg4JPrjofaGgCCz64OUES",
     "type":"MD",
     "hide_input_from_viewers":true,
     "hide_output_from_viewers":true
    }
   }
  },
  {
   "cell_type":"markdown",
   "source":[
    "# Import packages"
   ],
   "attachments":{
    
   },
   "metadata":{
    "datalore":{
     "node_id":"n9CuyuTPGzhyk53oGAJvuT",
     "type":"MD",
     "hide_input_from_viewers":true,
     "hide_output_from_viewers":true
    }
   }
  },
  {
   "cell_type":"code",
   "source":[
    "import pandas as pd\n",
    "import matplotlib.pyplot as plt\n",
    "import seaborn as sns"
   ],
   "execution_count":1,
   "outputs":[
    
   ],
   "metadata":{
    "datalore":{
     "node_id":"sjcFQF1kDUwXq2unVATfqc",
     "type":"CODE",
     "hide_input_from_viewers":true,
     "hide_output_from_viewers":true
    }
   }
  },
  {
   "cell_type":"markdown",
   "source":[
    "# Import file for analysis\n",
    "\n",
    "I've selected a dataset to examine what participants do in each hour."
   ],
   "attachments":{
    
   },
   "metadata":{
    "datalore":{
     "node_id":"f62xHvW9tky4wqKq3wknrX",
     "type":"MD",
     "hide_input_from_viewers":true,
     "hide_output_from_viewers":true
    }
   }
  },
  {
   "cell_type":"code",
   "source":[
    "activity = pd.read_csv(\"dailyActivity_merged.csv\")\n",
    "calories = pd.read_csv(\"hourlyCalories_merged.csv\")\n",
    "intensities = pd.read_csv(\"hourlyIntensities_merged.csv\")\n",
    "steps = pd.read_csv(\"hourlySteps_merged.csv\")\n",
    "sleepday = pd.read_csv(\"sleepDay_merged.csv\")"
   ],
   "execution_count":2,
   "outputs":[
    
   ],
   "metadata":{
    "datalore":{
     "node_id":"EFIQGtEotAI5FyUtAJQjZ8",
     "type":"CODE",
     "hide_input_from_viewers":true,
     "hide_output_from_viewers":true
    }
   }
  },
  {
   "cell_type":"code",
   "source":[
    "# Check null values before fixing format and analyze to cleaning dataset in case data have null.\n",
    "activity.isna().sum()\n",
    "calories.isna().sum()\n",
    "intensities.isna().sum()\n",
    "steps.isna().sum()\n",
    "sleepday.isna().sum()\n",
    "\n",
    "# After checked there is no null values in this 5 dataset."
   ],
   "execution_count":3,
   "outputs":[
    {
     "data":{
      "text\/html":[
       "<pre>Id                    0\n",
       "SleepDay              0\n",
       "TotalSleepRecords     0\n",
       "TotalMinutesAsleep    0\n",
       "TotalTimeInBed        0\n",
       "dtype: int64<\/pre>"
      ]
     },
     "metadata":{
      
     },
     "output_type":"display_data"
    }
   ],
   "metadata":{
    "datalore":{
     "node_id":"4THyqyUVLcPupkIa8Leurk",
     "type":"CODE",
     "hide_input_from_viewers":true,
     "hide_output_from_viewers":true
    }
   }
  },
  {
   "cell_type":"markdown",
   "source":[
    "# Fixing formatting"
   ],
   "attachments":{
    
   },
   "metadata":{
    "datalore":{
     "node_id":"JlWdGrULWRBrdnJNhfDd9Z",
     "type":"MD",
     "hide_input_from_viewers":true,
     "hide_output_from_viewers":true
    }
   }
  },
  {
   "cell_type":"code",
   "source":[
    "activity[\"ActivityDate\"] = pd.to_datetime(activity[\"ActivityDate\"],format = '%m\/%d\/%Y')\n",
    "calories[\"ActivityHour\"] = pd.to_datetime(calories[\"ActivityHour\"],format = \"%m\/%d\/%Y %I:%M:%S %p\")\n",
    "intensities[\"ActivityHour\"] = pd.to_datetime(intensities[\"ActivityHour\"],format = \"%m\/%d\/%Y %I:%M:%S %p\")\n",
    "steps[\"ActivityHour\"] = pd.to_datetime(steps[\"ActivityHour\"], format = \"%m\/%d\/%Y %I:%M:%S %p\")\n",
    "sleepday[\"SleepDay\"] = pd.to_datetime(sleepday[\"SleepDay\"], format = \"%m\/%d\/%Y %I:%M:%S %p\")"
   ],
   "execution_count":4,
   "outputs":[
    
   ],
   "metadata":{
    "datalore":{
     "node_id":"5eRLo6Oflk5mgf15yFWebz",
     "type":"CODE",
     "hide_input_from_viewers":true,
     "hide_output_from_viewers":true
    }
   }
  },
  {
   "cell_type":"code",
   "source":[
    "calories.columns\n",
    "list(calories.columns)\n",
    "calories.columns = [\"Id\",\"ActivityDate\",\"Calories\"]\n",
    "calories[\"ActivityHour\"] = calories[\"ActivityDate\"].dt.strftime(\"%H:%M:%S\")\n",
    "col_to_move = calories.pop(calories.columns[3])\n",
    "calories.insert(2,col_to_move.name,col_to_move)\n",
    "\n",
    "intensities.columns\n",
    "list(intensities.columns)\n",
    "intensities.columns = [\"Id\",\"ActivityDate\",\"TotalIntensity\",\"AverageIntensity\"]\n",
    "intensities[\"ActivityHour\"] = intensities[\"ActivityDate\"].dt.strftime(\"%H:%M:%S\")\n",
    "col_to_move = intensities.pop(intensities.columns[4])\n",
    "intensities.insert(2,col_to_move.name,col_to_move)\n",
    "\n",
    "steps.columns\n",
    "list(steps.columns)\n",
    "steps.columns = [\"Id\",\"ActivityDate\",\"StepTotal\"]\n",
    "steps[\"ActivityHour\"] = steps[\"ActivityDate\"].dt.strftime(\"%H:%M:%S\")\n",
    "col_to_move = steps.pop(steps.columns[3])\n",
    "steps.insert(2,col_to_move.name,col_to_move)\n",
    "\n",
    "sleepday.columns\n",
    "list(sleepday.columns)\n",
    "sleepday.columns = [\"Id\",\"ActivityDate\",\"TotalSleepRecords\",\"TotalMinutesAsleep\",\"TotalTimeInBed\"]"
   ],
   "execution_count":5,
   "outputs":[
    
   ],
   "metadata":{
    "datalore":{
     "node_id":"oqNwd837wPdN3p0OdglbZ8",
     "type":"CODE",
     "hide_input_from_viewers":true,
     "hide_output_from_viewers":true
    }
   }
  },
  {
   "cell_type":"code",
   "source":[
    "# look in a data set after fixed format\n",
    "calories"
   ],
   "execution_count":6,
   "outputs":[
    {
     "data":{
      "text\/html":[
       "<div>\n",
       "<style scoped>\n",
       "    .dataframe tbody tr th:only-of-type {\n",
       "        vertical-align: middle;\n",
       "    }\n",
       "\n",
       "    .dataframe tbody tr th {\n",
       "        vertical-align: top;\n",
       "    }\n",
       "\n",
       "    .dataframe thead th {\n",
       "        text-align: right;\n",
       "    }\n",
       "<\/style>\n",
       "<table border=\"1\" class=\"dataframe\">\n",
       "  <thead>\n",
       "    <tr style=\"text-align: right;\">\n",
       "      <th><\/th>\n",
       "      <th>Id<\/th>\n",
       "      <th>ActivityDate<\/th>\n",
       "      <th>ActivityHour<\/th>\n",
       "      <th>Calories<\/th>\n",
       "    <\/tr>\n",
       "  <\/thead>\n",
       "  <tbody>\n",
       "    <tr>\n",
       "      <th>0<\/th>\n",
       "      <td>1503960366<\/td>\n",
       "      <td>2016-04-12 00:00:00<\/td>\n",
       "      <td>00:00:00<\/td>\n",
       "      <td>81<\/td>\n",
       "    <\/tr>\n",
       "    <tr>\n",
       "      <th>1<\/th>\n",
       "      <td>1503960366<\/td>\n",
       "      <td>2016-04-12 01:00:00<\/td>\n",
       "      <td>01:00:00<\/td>\n",
       "      <td>61<\/td>\n",
       "    <\/tr>\n",
       "    <tr>\n",
       "      <th>2<\/th>\n",
       "      <td>1503960366<\/td>\n",
       "      <td>2016-04-12 02:00:00<\/td>\n",
       "      <td>02:00:00<\/td>\n",
       "      <td>59<\/td>\n",
       "    <\/tr>\n",
       "    <tr>\n",
       "      <th>3<\/th>\n",
       "      <td>1503960366<\/td>\n",
       "      <td>2016-04-12 03:00:00<\/td>\n",
       "      <td>03:00:00<\/td>\n",
       "      <td>47<\/td>\n",
       "    <\/tr>\n",
       "    <tr>\n",
       "      <th>4<\/th>\n",
       "      <td>1503960366<\/td>\n",
       "      <td>2016-04-12 04:00:00<\/td>\n",
       "      <td>04:00:00<\/td>\n",
       "      <td>48<\/td>\n",
       "    <\/tr>\n",
       "    <tr>\n",
       "      <th>...<\/th>\n",
       "      <td>...<\/td>\n",
       "      <td>...<\/td>\n",
       "      <td>...<\/td>\n",
       "      <td>...<\/td>\n",
       "    <\/tr>\n",
       "    <tr>\n",
       "      <th>22094<\/th>\n",
       "      <td>8877689391<\/td>\n",
       "      <td>2016-05-12 10:00:00<\/td>\n",
       "      <td>10:00:00<\/td>\n",
       "      <td>126<\/td>\n",
       "    <\/tr>\n",
       "    <tr>\n",
       "      <th>22095<\/th>\n",
       "      <td>8877689391<\/td>\n",
       "      <td>2016-05-12 11:00:00<\/td>\n",
       "      <td>11:00:00<\/td>\n",
       "      <td>192<\/td>\n",
       "    <\/tr>\n",
       "    <tr>\n",
       "      <th>22096<\/th>\n",
       "      <td>8877689391<\/td>\n",
       "      <td>2016-05-12 12:00:00<\/td>\n",
       "      <td>12:00:00<\/td>\n",
       "      <td>321<\/td>\n",
       "    <\/tr>\n",
       "    <tr>\n",
       "      <th>22097<\/th>\n",
       "      <td>8877689391<\/td>\n",
       "      <td>2016-05-12 13:00:00<\/td>\n",
       "      <td>13:00:00<\/td>\n",
       "      <td>101<\/td>\n",
       "    <\/tr>\n",
       "    <tr>\n",
       "      <th>22098<\/th>\n",
       "      <td>8877689391<\/td>\n",
       "      <td>2016-05-12 14:00:00<\/td>\n",
       "      <td>14:00:00<\/td>\n",
       "      <td>113<\/td>\n",
       "    <\/tr>\n",
       "  <\/tbody>\n",
       "<\/table>\n",
       "<p>22099 rows × 4 columns<\/p>\n",
       "<\/div>"
      ]
     },
     "metadata":{
      
     },
     "output_type":"display_data"
    }
   ],
   "metadata":{
    "datalore":{
     "node_id":"njTifzluwzMlvtrCu5HfrO",
     "type":"CODE",
     "hide_input_from_viewers":true,
     "hide_output_from_viewers":true
    }
   }
  },
  {
   "cell_type":"markdown",
   "source":[
    "# Summarize statistics of the data set"
   ],
   "attachments":{
    
   },
   "metadata":{
    "datalore":{
     "node_id":"ILgZSzVB2DQCCu8tHqq0HB",
     "type":"MD",
     "hide_input_from_viewers":true,
     "hide_output_from_viewers":true
    }
   }
  },
  {
   "cell_type":"code",
   "source":[
    "activity[[\"TotalSteps\",\"SedentaryMinutes\",\"LightlyActiveMinutes\",\"FairlyActiveMinutes\",\"VeryActiveMinutes\",\"Calories\"]].describe()"
   ],
   "execution_count":7,
   "outputs":[
    {
     "data":{
      "text\/html":[
       "<div>\n",
       "<style scoped>\n",
       "    .dataframe tbody tr th:only-of-type {\n",
       "        vertical-align: middle;\n",
       "    }\n",
       "\n",
       "    .dataframe tbody tr th {\n",
       "        vertical-align: top;\n",
       "    }\n",
       "\n",
       "    .dataframe thead th {\n",
       "        text-align: right;\n",
       "    }\n",
       "<\/style>\n",
       "<table border=\"1\" class=\"dataframe\">\n",
       "  <thead>\n",
       "    <tr style=\"text-align: right;\">\n",
       "      <th><\/th>\n",
       "      <th>TotalSteps<\/th>\n",
       "      <th>SedentaryMinutes<\/th>\n",
       "      <th>LightlyActiveMinutes<\/th>\n",
       "      <th>FairlyActiveMinutes<\/th>\n",
       "      <th>VeryActiveMinutes<\/th>\n",
       "      <th>Calories<\/th>\n",
       "    <\/tr>\n",
       "  <\/thead>\n",
       "  <tbody>\n",
       "    <tr>\n",
       "      <th>count<\/th>\n",
       "      <td>940.000000<\/td>\n",
       "      <td>940.000000<\/td>\n",
       "      <td>940.000000<\/td>\n",
       "      <td>940.000000<\/td>\n",
       "      <td>940.000000<\/td>\n",
       "      <td>940.000000<\/td>\n",
       "    <\/tr>\n",
       "    <tr>\n",
       "      <th>mean<\/th>\n",
       "      <td>7637.910638<\/td>\n",
       "      <td>991.210638<\/td>\n",
       "      <td>192.812766<\/td>\n",
       "      <td>13.564894<\/td>\n",
       "      <td>21.164894<\/td>\n",
       "      <td>2303.609574<\/td>\n",
       "    <\/tr>\n",
       "    <tr>\n",
       "      <th>std<\/th>\n",
       "      <td>5087.150742<\/td>\n",
       "      <td>301.267437<\/td>\n",
       "      <td>109.174700<\/td>\n",
       "      <td>19.987404<\/td>\n",
       "      <td>32.844803<\/td>\n",
       "      <td>718.166862<\/td>\n",
       "    <\/tr>\n",
       "    <tr>\n",
       "      <th>min<\/th>\n",
       "      <td>0.000000<\/td>\n",
       "      <td>0.000000<\/td>\n",
       "      <td>0.000000<\/td>\n",
       "      <td>0.000000<\/td>\n",
       "      <td>0.000000<\/td>\n",
       "      <td>0.000000<\/td>\n",
       "    <\/tr>\n",
       "    <tr>\n",
       "      <th>25%<\/th>\n",
       "      <td>3789.750000<\/td>\n",
       "      <td>729.750000<\/td>\n",
       "      <td>127.000000<\/td>\n",
       "      <td>0.000000<\/td>\n",
       "      <td>0.000000<\/td>\n",
       "      <td>1828.500000<\/td>\n",
       "    <\/tr>\n",
       "    <tr>\n",
       "      <th>50%<\/th>\n",
       "      <td>7405.500000<\/td>\n",
       "      <td>1057.500000<\/td>\n",
       "      <td>199.000000<\/td>\n",
       "      <td>6.000000<\/td>\n",
       "      <td>4.000000<\/td>\n",
       "      <td>2134.000000<\/td>\n",
       "    <\/tr>\n",
       "    <tr>\n",
       "      <th>75%<\/th>\n",
       "      <td>10727.000000<\/td>\n",
       "      <td>1229.500000<\/td>\n",
       "      <td>264.000000<\/td>\n",
       "      <td>19.000000<\/td>\n",
       "      <td>32.000000<\/td>\n",
       "      <td>2793.250000<\/td>\n",
       "    <\/tr>\n",
       "    <tr>\n",
       "      <th>max<\/th>\n",
       "      <td>36019.000000<\/td>\n",
       "      <td>1440.000000<\/td>\n",
       "      <td>518.000000<\/td>\n",
       "      <td>143.000000<\/td>\n",
       "      <td>210.000000<\/td>\n",
       "      <td>4900.000000<\/td>\n",
       "    <\/tr>\n",
       "  <\/tbody>\n",
       "<\/table>\n",
       "<\/div>"
      ]
     },
     "metadata":{
      
     },
     "output_type":"display_data"
    }
   ],
   "metadata":{
    "datalore":{
     "node_id":"wHl7KqVfaTAuzeeZWORVKm",
     "type":"CODE",
     "hide_input_from_viewers":true,
     "hide_output_from_viewers":true
    }
   }
  },
  {
   "cell_type":"code",
   "source":[
    "calories[\"Calories\"].describe()"
   ],
   "execution_count":8,
   "outputs":[
    {
     "data":{
      "text\/html":[
       "<pre>count    22099.000000\n",
       "mean        97.386760\n",
       "std         60.702622\n",
       "min         42.000000\n",
       "25%         63.000000\n",
       "50%         83.000000\n",
       "75%        108.000000\n",
       "max        948.000000\n",
       "Name: Calories, dtype: float64<\/pre>"
      ]
     },
     "metadata":{
      
     },
     "output_type":"display_data"
    }
   ],
   "metadata":{
    "datalore":{
     "node_id":"ZwHqtXAkunJa2utiFK3WAt",
     "type":"CODE",
     "hide_input_from_viewers":true,
     "hide_output_from_viewers":true
    }
   }
  },
  {
   "cell_type":"code",
   "source":[
    "intensities[[\"TotalIntensity\",\"AverageIntensity\"]].describe()"
   ],
   "execution_count":9,
   "outputs":[
    {
     "data":{
      "text\/html":[
       "<div>\n",
       "<style scoped>\n",
       "    .dataframe tbody tr th:only-of-type {\n",
       "        vertical-align: middle;\n",
       "    }\n",
       "\n",
       "    .dataframe tbody tr th {\n",
       "        vertical-align: top;\n",
       "    }\n",
       "\n",
       "    .dataframe thead th {\n",
       "        text-align: right;\n",
       "    }\n",
       "<\/style>\n",
       "<table border=\"1\" class=\"dataframe\">\n",
       "  <thead>\n",
       "    <tr style=\"text-align: right;\">\n",
       "      <th><\/th>\n",
       "      <th>TotalIntensity<\/th>\n",
       "      <th>AverageIntensity<\/th>\n",
       "    <\/tr>\n",
       "  <\/thead>\n",
       "  <tbody>\n",
       "    <tr>\n",
       "      <th>count<\/th>\n",
       "      <td>22099.000000<\/td>\n",
       "      <td>22099.000000<\/td>\n",
       "    <\/tr>\n",
       "    <tr>\n",
       "      <th>mean<\/th>\n",
       "      <td>12.035341<\/td>\n",
       "      <td>0.200589<\/td>\n",
       "    <\/tr>\n",
       "    <tr>\n",
       "      <th>std<\/th>\n",
       "      <td>21.133110<\/td>\n",
       "      <td>0.352219<\/td>\n",
       "    <\/tr>\n",
       "    <tr>\n",
       "      <th>min<\/th>\n",
       "      <td>0.000000<\/td>\n",
       "      <td>0.000000<\/td>\n",
       "    <\/tr>\n",
       "    <tr>\n",
       "      <th>25%<\/th>\n",
       "      <td>0.000000<\/td>\n",
       "      <td>0.000000<\/td>\n",
       "    <\/tr>\n",
       "    <tr>\n",
       "      <th>50%<\/th>\n",
       "      <td>3.000000<\/td>\n",
       "      <td>0.050000<\/td>\n",
       "    <\/tr>\n",
       "    <tr>\n",
       "      <th>75%<\/th>\n",
       "      <td>16.000000<\/td>\n",
       "      <td>0.266667<\/td>\n",
       "    <\/tr>\n",
       "    <tr>\n",
       "      <th>max<\/th>\n",
       "      <td>180.000000<\/td>\n",
       "      <td>3.000000<\/td>\n",
       "    <\/tr>\n",
       "  <\/tbody>\n",
       "<\/table>\n",
       "<\/div>"
      ]
     },
     "metadata":{
      
     },
     "output_type":"display_data"
    }
   ],
   "metadata":{
    "datalore":{
     "node_id":"iZEUQDuSO482S4649mWuXp",
     "type":"CODE",
     "hide_input_from_viewers":true,
     "hide_output_from_viewers":true
    }
   }
  },
  {
   "cell_type":"code",
   "source":[
    "steps[\"StepTotal\"].describe()"
   ],
   "execution_count":10,
   "outputs":[
    {
     "data":{
      "text\/html":[
       "<pre>count    22099.000000\n",
       "mean       320.166342\n",
       "std        690.384228\n",
       "min          0.000000\n",
       "25%          0.000000\n",
       "50%         40.000000\n",
       "75%        357.000000\n",
       "max      10554.000000\n",
       "Name: StepTotal, dtype: float64<\/pre>"
      ]
     },
     "metadata":{
      
     },
     "output_type":"display_data"
    }
   ],
   "metadata":{
    "datalore":{
     "node_id":"lmttyRVjTvEIkrFQ0YEIJS",
     "type":"CODE",
     "hide_input_from_viewers":true,
     "hide_output_from_viewers":true
    }
   }
  },
  {
   "cell_type":"code",
   "source":[
    "sleepday[[\"TotalMinutesAsleep\",\"TotalTimeInBed\"]].describe()"
   ],
   "execution_count":11,
   "outputs":[
    {
     "data":{
      "text\/html":[
       "<div>\n",
       "<style scoped>\n",
       "    .dataframe tbody tr th:only-of-type {\n",
       "        vertical-align: middle;\n",
       "    }\n",
       "\n",
       "    .dataframe tbody tr th {\n",
       "        vertical-align: top;\n",
       "    }\n",
       "\n",
       "    .dataframe thead th {\n",
       "        text-align: right;\n",
       "    }\n",
       "<\/style>\n",
       "<table border=\"1\" class=\"dataframe\">\n",
       "  <thead>\n",
       "    <tr style=\"text-align: right;\">\n",
       "      <th><\/th>\n",
       "      <th>TotalMinutesAsleep<\/th>\n",
       "      <th>TotalTimeInBed<\/th>\n",
       "    <\/tr>\n",
       "  <\/thead>\n",
       "  <tbody>\n",
       "    <tr>\n",
       "      <th>count<\/th>\n",
       "      <td>413.000000<\/td>\n",
       "      <td>413.000000<\/td>\n",
       "    <\/tr>\n",
       "    <tr>\n",
       "      <th>mean<\/th>\n",
       "      <td>419.467312<\/td>\n",
       "      <td>458.639225<\/td>\n",
       "    <\/tr>\n",
       "    <tr>\n",
       "      <th>std<\/th>\n",
       "      <td>118.344679<\/td>\n",
       "      <td>127.101607<\/td>\n",
       "    <\/tr>\n",
       "    <tr>\n",
       "      <th>min<\/th>\n",
       "      <td>58.000000<\/td>\n",
       "      <td>61.000000<\/td>\n",
       "    <\/tr>\n",
       "    <tr>\n",
       "      <th>25%<\/th>\n",
       "      <td>361.000000<\/td>\n",
       "      <td>403.000000<\/td>\n",
       "    <\/tr>\n",
       "    <tr>\n",
       "      <th>50%<\/th>\n",
       "      <td>433.000000<\/td>\n",
       "      <td>463.000000<\/td>\n",
       "    <\/tr>\n",
       "    <tr>\n",
       "      <th>75%<\/th>\n",
       "      <td>490.000000<\/td>\n",
       "      <td>526.000000<\/td>\n",
       "    <\/tr>\n",
       "    <tr>\n",
       "      <th>max<\/th>\n",
       "      <td>796.000000<\/td>\n",
       "      <td>961.000000<\/td>\n",
       "    <\/tr>\n",
       "  <\/tbody>\n",
       "<\/table>\n",
       "<\/div>"
      ]
     },
     "metadata":{
      
     },
     "output_type":"display_data"
    }
   ],
   "metadata":{
    "datalore":{
     "node_id":"QWcXk4N5Y1yHQa2tpHG1m4",
     "type":"CODE",
     "hide_input_from_viewers":true,
     "hide_output_from_viewers":true
    }
   }
  },
  {
   "cell_type":"markdown",
   "source":[
    "### Some interesting statistics point in dataset.\n",
    "\n",
    "- The majority of participants are \"SedentaryActivity\".\n",
    "  \n",
    "- I found that average participants sleep is around 6.9 hour per day.\n",
    "\n",
    "- I found that average of total steps is 7638. which a little bit less for having health benefits for according to the CDC research. \n",
    "  They found that, compared with taking 4,000 steps per day, a number considered to be low for adults, taking 8,000 \n",
    "  steps per day was associated with a 51% lower risk for all-cause mortality (or death from all causes). Taking 12,000 steps per \n",
    "  day was associated with a 65% lower risk compared with taking 4,000 steps. In contrast, the authors saw no association between \n",
    "  step intensity and risk of death after accounting for the total number of steps taken per day. \n",
    "\n",
    "ref :https:\/\/www.cdc.gov\/media\/releases\/2020\/p0324-daily-step-count.html"
   ],
   "attachments":{
    
   },
   "metadata":{
    "datalore":{
     "node_id":"17hhNpX9uRgdWzG3CyzeaD",
     "type":"MD",
     "hide_input_from_viewers":true,
     "hide_output_from_viewers":true
    }
   }
  },
  {
   "cell_type":"markdown",
   "source":[
    "# Merging data\n",
    "Before beginning visualize data to see some trends or pattern, I need to merge 2 datasets. I'm going to merge (inner join) on 'Id' and 'ActivityDate' columns\n",
    "that I convert data to date time format before."
   ],
   "attachments":{
    
   },
   "metadata":{
    "datalore":{
     "node_id":"SXVWbj5jxA1YkeKgg6f2Sn",
     "type":"MD",
     "hide_input_from_viewers":true,
     "hide_output_from_viewers":true
    }
   }
  },
  {
   "cell_type":"code",
   "source":[
    "# Merge intensity and steps\n",
    "merge_steps_int = pd.merge(intensities,steps,on =[\"Id\",\"ActivityDate\",\"ActivityHour\"])\n",
    "msi_sum = merge_steps_int.groupby(\"ActivityHour\")[[\"TotalIntensity\",\"StepTotal\"]].sum()\n",
    "msi_sum"
   ],
   "execution_count":12,
   "outputs":[
    {
     "data":{
      "text\/html":[
       "<div>\n",
       "<style scoped>\n",
       "    .dataframe tbody tr th:only-of-type {\n",
       "        vertical-align: middle;\n",
       "    }\n",
       "\n",
       "    .dataframe tbody tr th {\n",
       "        vertical-align: top;\n",
       "    }\n",
       "\n",
       "    .dataframe thead th {\n",
       "        text-align: right;\n",
       "    }\n",
       "<\/style>\n",
       "<table border=\"1\" class=\"dataframe\">\n",
       "  <thead>\n",
       "    <tr style=\"text-align: right;\">\n",
       "      <th><\/th>\n",
       "      <th>TotalIntensity<\/th>\n",
       "      <th>StepTotal<\/th>\n",
       "    <\/tr>\n",
       "    <tr>\n",
       "      <th>ActivityHour<\/th>\n",
       "      <th><\/th>\n",
       "      <th><\/th>\n",
       "    <\/tr>\n",
       "  <\/thead>\n",
       "  <tbody>\n",
       "    <tr>\n",
       "      <th>00:00:00<\/th>\n",
       "      <td>1989<\/td>\n",
       "      <td>39404<\/td>\n",
       "    <\/tr>\n",
       "    <tr>\n",
       "      <th>01:00:00<\/th>\n",
       "      <td>1324<\/td>\n",
       "      <td>21555<\/td>\n",
       "    <\/tr>\n",
       "    <tr>\n",
       "      <th>02:00:00<\/th>\n",
       "      <td>974<\/td>\n",
       "      <td>15964<\/td>\n",
       "    <\/tr>\n",
       "    <tr>\n",
       "      <th>03:00:00<\/th>\n",
       "      <td>414<\/td>\n",
       "      <td>5996<\/td>\n",
       "    <\/tr>\n",
       "    <tr>\n",
       "      <th>04:00:00<\/th>\n",
       "      <td>590<\/td>\n",
       "      <td>11836<\/td>\n",
       "    <\/tr>\n",
       "    <tr>\n",
       "      <th>05:00:00<\/th>\n",
       "      <td>4614<\/td>\n",
       "      <td>40886<\/td>\n",
       "    <\/tr>\n",
       "    <tr>\n",
       "      <th>06:00:00<\/th>\n",
       "      <td>7235<\/td>\n",
       "      <td>166191<\/td>\n",
       "    <\/tr>\n",
       "    <tr>\n",
       "      <th>07:00:00<\/th>\n",
       "      <td>9993<\/td>\n",
       "      <td>284932<\/td>\n",
       "    <\/tr>\n",
       "    <tr>\n",
       "      <th>08:00:00<\/th>\n",
       "      <td>13656<\/td>\n",
       "      <td>398044<\/td>\n",
       "    <\/tr>\n",
       "    <tr>\n",
       "      <th>09:00:00<\/th>\n",
       "      <td>14326<\/td>\n",
       "      <td>403404<\/td>\n",
       "    <\/tr>\n",
       "    <tr>\n",
       "      <th>10:00:00<\/th>\n",
       "      <td>16391<\/td>\n",
       "      <td>447467<\/td>\n",
       "    <\/tr>\n",
       "    <tr>\n",
       "      <th>11:00:00<\/th>\n",
       "      <td>15686<\/td>\n",
       "      <td>423534<\/td>\n",
       "    <\/tr>\n",
       "    <tr>\n",
       "      <th>12:00:00<\/th>\n",
       "      <td>18299<\/td>\n",
       "      <td>505848<\/td>\n",
       "    <\/tr>\n",
       "    <tr>\n",
       "      <th>13:00:00<\/th>\n",
       "      <td>17292<\/td>\n",
       "      <td>495220<\/td>\n",
       "    <\/tr>\n",
       "    <tr>\n",
       "      <th>14:00:00<\/th>\n",
       "      <td>17378<\/td>\n",
       "      <td>497813<\/td>\n",
       "    <\/tr>\n",
       "    <tr>\n",
       "      <th>15:00:00<\/th>\n",
       "      <td>14260<\/td>\n",
       "      <td>371782<\/td>\n",
       "    <\/tr>\n",
       "    <tr>\n",
       "      <th>16:00:00<\/th>\n",
       "      <td>16069<\/td>\n",
       "      <td>450639<\/td>\n",
       "    <\/tr>\n",
       "    <tr>\n",
       "      <th>17:00:00<\/th>\n",
       "      <td>19620<\/td>\n",
       "      <td>498511<\/td>\n",
       "    <\/tr>\n",
       "    <tr>\n",
       "      <th>18:00:00<\/th>\n",
       "      <td>19861<\/td>\n",
       "      <td>542848<\/td>\n",
       "    <\/tr>\n",
       "    <tr>\n",
       "      <th>19:00:00<\/th>\n",
       "      <td>19375<\/td>\n",
       "      <td>528552<\/td>\n",
       "    <\/tr>\n",
       "    <tr>\n",
       "      <th>20:00:00<\/th>\n",
       "      <td>12992<\/td>\n",
       "      <td>320638<\/td>\n",
       "    <\/tr>\n",
       "    <tr>\n",
       "      <th>21:00:00<\/th>\n",
       "      <td>10926<\/td>\n",
       "      <td>278865<\/td>\n",
       "    <\/tr>\n",
       "    <tr>\n",
       "      <th>22:00:00<\/th>\n",
       "      <td>8193<\/td>\n",
       "      <td>215141<\/td>\n",
       "    <\/tr>\n",
       "    <tr>\n",
       "      <th>23:00:00<\/th>\n",
       "      <td>4512<\/td>\n",
       "      <td>110286<\/td>\n",
       "    <\/tr>\n",
       "  <\/tbody>\n",
       "<\/table>\n",
       "<\/div>"
      ]
     },
     "metadata":{
      
     },
     "output_type":"display_data"
    }
   ],
   "metadata":{
    "datalore":{
     "node_id":"xPDDMmsxd2OlSYEFcz5bLt",
     "type":"CODE",
     "hide_input_from_viewers":true,
     "hide_output_from_viewers":true
    }
   }
  },
  {
   "cell_type":"code",
   "source":[
    "msi = msi_sum.plot(x = \"StepTotal\", y = \"TotalIntensity\", kind = \"scatter\")\n",
    "sns.regplot(x = msi_sum[\"StepTotal\"], y = msi_sum[\"TotalIntensity\"],ax=msi,scatter_kws = {'color':'#4c9ec2'},line_kws = {'color':'red'})\n",
    "plt.title(\"Correlation between sum result of 'StepTotal' and 'TotalIntensity' in each hour\")\n",
    "plt.show()"
   ],
   "execution_count":13,
   "outputs":[
    {
     "data":{
      "image\/png":"[encoded data removed]"
     },
     "metadata":{
      "image\/png":{
       
      }
     },
     "output_type":"display_data"
    }
   ],
   "metadata":{
    "datalore":{
     "node_id":"xfNsL75sLQHa5PdXjSl4xH",
     "type":"CODE",
     "hide_input_from_viewers":true,
     "hide_output_from_viewers":true
    }
   }
  },
  {
   "cell_type":"markdown",
   "source":[
    "I see a positive correlation between 'StepTotal' and 'TotalIntensity', which mean If the participant moves little, \n",
    "this may indicate light exercise. If they move more, it may mean more intense exercise."
   ],
   "attachments":{
    
   },
   "metadata":{
    "datalore":{
     "node_id":"qNMcCQ2Ff6T2UsXOJY4xLw",
     "type":"MD",
     "hide_input_from_viewers":true,
     "hide_output_from_viewers":true
    }
   }
  },
  {
   "cell_type":"code",
   "source":[
    "# Merge Intensity and Calories\n",
    "merge_col_int = pd.merge(intensities,calories,on =[\"Id\",\"ActivityDate\",\"ActivityHour\"])\n",
    "merge_sum = merge_col_int.groupby(\"ActivityHour\")[[\"TotalIntensity\",\"Calories\"]].sum()\n",
    "merge_sum"
   ],
   "execution_count":14,
   "outputs":[
    {
     "data":{
      "text\/html":[
       "<div>\n",
       "<style scoped>\n",
       "    .dataframe tbody tr th:only-of-type {\n",
       "        vertical-align: middle;\n",
       "    }\n",
       "\n",
       "    .dataframe tbody tr th {\n",
       "        vertical-align: top;\n",
       "    }\n",
       "\n",
       "    .dataframe thead th {\n",
       "        text-align: right;\n",
       "    }\n",
       "<\/style>\n",
       "<table border=\"1\" class=\"dataframe\">\n",
       "  <thead>\n",
       "    <tr style=\"text-align: right;\">\n",
       "      <th><\/th>\n",
       "      <th>TotalIntensity<\/th>\n",
       "      <th>Calories<\/th>\n",
       "    <\/tr>\n",
       "    <tr>\n",
       "      <th>ActivityHour<\/th>\n",
       "      <th><\/th>\n",
       "      <th><\/th>\n",
       "    <\/tr>\n",
       "  <\/thead>\n",
       "  <tbody>\n",
       "    <tr>\n",
       "      <th>00:00:00<\/th>\n",
       "      <td>1989<\/td>\n",
       "      <td>67066<\/td>\n",
       "    <\/tr>\n",
       "    <tr>\n",
       "      <th>01:00:00<\/th>\n",
       "      <td>1324<\/td>\n",
       "      <td>65464<\/td>\n",
       "    <\/tr>\n",
       "    <tr>\n",
       "      <th>02:00:00<\/th>\n",
       "      <td>974<\/td>\n",
       "      <td>64551<\/td>\n",
       "    <\/tr>\n",
       "    <tr>\n",
       "      <th>03:00:00<\/th>\n",
       "      <td>414<\/td>\n",
       "      <td>63013<\/td>\n",
       "    <\/tr>\n",
       "    <tr>\n",
       "      <th>04:00:00<\/th>\n",
       "      <td>590<\/td>\n",
       "      <td>63620<\/td>\n",
       "    <\/tr>\n",
       "    <tr>\n",
       "      <th>05:00:00<\/th>\n",
       "      <td>4614<\/td>\n",
       "      <td>76152<\/td>\n",
       "    <\/tr>\n",
       "    <tr>\n",
       "      <th>06:00:00<\/th>\n",
       "      <td>7235<\/td>\n",
       "      <td>80994<\/td>\n",
       "    <\/tr>\n",
       "    <tr>\n",
       "      <th>07:00:00<\/th>\n",
       "      <td>9993<\/td>\n",
       "      <td>87959<\/td>\n",
       "    <\/tr>\n",
       "    <tr>\n",
       "      <th>08:00:00<\/th>\n",
       "      <td>13656<\/td>\n",
       "      <td>96207<\/td>\n",
       "    <\/tr>\n",
       "    <tr>\n",
       "      <th>09:00:00<\/th>\n",
       "      <td>14326<\/td>\n",
       "      <td>98819<\/td>\n",
       "    <\/tr>\n",
       "    <tr>\n",
       "      <th>10:00:00<\/th>\n",
       "      <td>16391<\/td>\n",
       "      <td>102618<\/td>\n",
       "    <\/tr>\n",
       "    <tr>\n",
       "      <th>11:00:00<\/th>\n",
       "      <td>15686<\/td>\n",
       "      <td>101791<\/td>\n",
       "    <\/tr>\n",
       "    <tr>\n",
       "      <th>12:00:00<\/th>\n",
       "      <td>18299<\/td>\n",
       "      <td>108056<\/td>\n",
       "    <\/tr>\n",
       "    <tr>\n",
       "      <th>13:00:00<\/th>\n",
       "      <td>17292<\/td>\n",
       "      <td>106200<\/td>\n",
       "    <\/tr>\n",
       "    <tr>\n",
       "      <th>14:00:00<\/th>\n",
       "      <td>17378<\/td>\n",
       "      <td>106590<\/td>\n",
       "    <\/tr>\n",
       "    <tr>\n",
       "      <th>15:00:00<\/th>\n",
       "      <td>14260<\/td>\n",
       "      <td>97573<\/td>\n",
       "    <\/tr>\n",
       "    <tr>\n",
       "      <th>16:00:00<\/th>\n",
       "      <td>16069<\/td>\n",
       "      <td>102788<\/td>\n",
       "    <\/tr>\n",
       "    <tr>\n",
       "      <th>17:00:00<\/th>\n",
       "      <td>19620<\/td>\n",
       "      <td>111214<\/td>\n",
       "    <\/tr>\n",
       "    <tr>\n",
       "      <th>18:00:00<\/th>\n",
       "      <td>19861<\/td>\n",
       "      <td>111884<\/td>\n",
       "    <\/tr>\n",
       "    <tr>\n",
       "      <th>19:00:00<\/th>\n",
       "      <td>19375<\/td>\n",
       "      <td>110065<\/td>\n",
       "    <\/tr>\n",
       "    <tr>\n",
       "      <th>20:00:00<\/th>\n",
       "      <td>12992<\/td>\n",
       "      <td>92736<\/td>\n",
       "    <\/tr>\n",
       "    <tr>\n",
       "      <th>21:00:00<\/th>\n",
       "      <td>10926<\/td>\n",
       "      <td>86931<\/td>\n",
       "    <\/tr>\n",
       "    <tr>\n",
       "      <th>22:00:00<\/th>\n",
       "      <td>8193<\/td>\n",
       "      <td>79792<\/td>\n",
       "    <\/tr>\n",
       "    <tr>\n",
       "      <th>23:00:00<\/th>\n",
       "      <td>4512<\/td>\n",
       "      <td>70067<\/td>\n",
       "    <\/tr>\n",
       "  <\/tbody>\n",
       "<\/table>\n",
       "<\/div>"
      ]
     },
     "metadata":{
      
     },
     "output_type":"display_data"
    }
   ],
   "metadata":{
    "datalore":{
     "node_id":"80ywA8we5Icw84eVGN6uD8",
     "type":"CODE",
     "hide_input_from_viewers":true,
     "hide_output_from_viewers":true
    }
   }
  },
  {
   "cell_type":"code",
   "source":[
    "ms = merge_sum.plot(x = \"TotalIntensity\", y = \"Calories\",kind = \"scatter\")\n",
    "\n",
    "sns.regplot(x = merge_sum[\"TotalIntensity\"], y = merge_sum[\"Calories\"], ax=ms,scatter_kws = {'color':'#4c9ec2'}, line_kws ={'color':'red'})\n",
    "plt.title(\"Correlation between sum result of 'TotalIntensity' and 'Calories' in each hour\")\n",
    "plt.show()"
   ],
   "execution_count":15,
   "outputs":[
    {
     "data":{
      "image\/png":"[encoded data removed]"
     },
     "metadata":{
      "image\/png":{
       
      }
     },
     "output_type":"display_data"
    }
   ],
   "metadata":{
    "datalore":{
     "node_id":"5HrmIvVk1gF2w3EhwdfMSg",
     "type":"CODE",
     "hide_input_from_viewers":true,
     "hide_output_from_viewers":true
    }
   }
  },
  {
   "cell_type":"markdown",
   "source":[
    "I see a positive corrlation between 'TotalIntensity' and 'Calories', which mean a light exercise can decrease a calories also \n",
    "a intense excercise can decrease more calories."
   ],
   "attachments":{
    
   },
   "metadata":{
    "datalore":{
     "node_id":"e3iYJpMyG0txIM3Gh3ITSs",
     "type":"MD",
     "hide_input_from_viewers":true,
     "hide_output_from_viewers":true
    }
   }
  },
  {
   "cell_type":"code",
   "source":[
    "# Merge steps and calories\n",
    "merge_col_steps = pd.merge(steps,calories,on = [\"Id\",\"ActivityDate\",\"ActivityHour\"])\n",
    "merge_sumsc = merge_col_steps.groupby(\"ActivityHour\")[[\"StepTotal\",\"Calories\"]].sum()\n",
    "merge_sumsc"
   ],
   "execution_count":16,
   "outputs":[
    {
     "data":{
      "text\/html":[
       "<div>\n",
       "<style scoped>\n",
       "    .dataframe tbody tr th:only-of-type {\n",
       "        vertical-align: middle;\n",
       "    }\n",
       "\n",
       "    .dataframe tbody tr th {\n",
       "        vertical-align: top;\n",
       "    }\n",
       "\n",
       "    .dataframe thead th {\n",
       "        text-align: right;\n",
       "    }\n",
       "<\/style>\n",
       "<table border=\"1\" class=\"dataframe\">\n",
       "  <thead>\n",
       "    <tr style=\"text-align: right;\">\n",
       "      <th><\/th>\n",
       "      <th>StepTotal<\/th>\n",
       "      <th>Calories<\/th>\n",
       "    <\/tr>\n",
       "    <tr>\n",
       "      <th>ActivityHour<\/th>\n",
       "      <th><\/th>\n",
       "      <th><\/th>\n",
       "    <\/tr>\n",
       "  <\/thead>\n",
       "  <tbody>\n",
       "    <tr>\n",
       "      <th>00:00:00<\/th>\n",
       "      <td>39404<\/td>\n",
       "      <td>67066<\/td>\n",
       "    <\/tr>\n",
       "    <tr>\n",
       "      <th>01:00:00<\/th>\n",
       "      <td>21555<\/td>\n",
       "      <td>65464<\/td>\n",
       "    <\/tr>\n",
       "    <tr>\n",
       "      <th>02:00:00<\/th>\n",
       "      <td>15964<\/td>\n",
       "      <td>64551<\/td>\n",
       "    <\/tr>\n",
       "    <tr>\n",
       "      <th>03:00:00<\/th>\n",
       "      <td>5996<\/td>\n",
       "      <td>63013<\/td>\n",
       "    <\/tr>\n",
       "    <tr>\n",
       "      <th>04:00:00<\/th>\n",
       "      <td>11836<\/td>\n",
       "      <td>63620<\/td>\n",
       "    <\/tr>\n",
       "    <tr>\n",
       "      <th>05:00:00<\/th>\n",
       "      <td>40886<\/td>\n",
       "      <td>76152<\/td>\n",
       "    <\/tr>\n",
       "    <tr>\n",
       "      <th>06:00:00<\/th>\n",
       "      <td>166191<\/td>\n",
       "      <td>80994<\/td>\n",
       "    <\/tr>\n",
       "    <tr>\n",
       "      <th>07:00:00<\/th>\n",
       "      <td>284932<\/td>\n",
       "      <td>87959<\/td>\n",
       "    <\/tr>\n",
       "    <tr>\n",
       "      <th>08:00:00<\/th>\n",
       "      <td>398044<\/td>\n",
       "      <td>96207<\/td>\n",
       "    <\/tr>\n",
       "    <tr>\n",
       "      <th>09:00:00<\/th>\n",
       "      <td>403404<\/td>\n",
       "      <td>98819<\/td>\n",
       "    <\/tr>\n",
       "    <tr>\n",
       "      <th>10:00:00<\/th>\n",
       "      <td>447467<\/td>\n",
       "      <td>102618<\/td>\n",
       "    <\/tr>\n",
       "    <tr>\n",
       "      <th>11:00:00<\/th>\n",
       "      <td>423534<\/td>\n",
       "      <td>101791<\/td>\n",
       "    <\/tr>\n",
       "    <tr>\n",
       "      <th>12:00:00<\/th>\n",
       "      <td>505848<\/td>\n",
       "      <td>108056<\/td>\n",
       "    <\/tr>\n",
       "    <tr>\n",
       "      <th>13:00:00<\/th>\n",
       "      <td>495220<\/td>\n",
       "      <td>106200<\/td>\n",
       "    <\/tr>\n",
       "    <tr>\n",
       "      <th>14:00:00<\/th>\n",
       "      <td>497813<\/td>\n",
       "      <td>106590<\/td>\n",
       "    <\/tr>\n",
       "    <tr>\n",
       "      <th>15:00:00<\/th>\n",
       "      <td>371782<\/td>\n",
       "      <td>97573<\/td>\n",
       "    <\/tr>\n",
       "    <tr>\n",
       "      <th>16:00:00<\/th>\n",
       "      <td>450639<\/td>\n",
       "      <td>102788<\/td>\n",
       "    <\/tr>\n",
       "    <tr>\n",
       "      <th>17:00:00<\/th>\n",
       "      <td>498511<\/td>\n",
       "      <td>111214<\/td>\n",
       "    <\/tr>\n",
       "    <tr>\n",
       "      <th>18:00:00<\/th>\n",
       "      <td>542848<\/td>\n",
       "      <td>111884<\/td>\n",
       "    <\/tr>\n",
       "    <tr>\n",
       "      <th>19:00:00<\/th>\n",
       "      <td>528552<\/td>\n",
       "      <td>110065<\/td>\n",
       "    <\/tr>\n",
       "    <tr>\n",
       "      <th>20:00:00<\/th>\n",
       "      <td>320638<\/td>\n",
       "      <td>92736<\/td>\n",
       "    <\/tr>\n",
       "    <tr>\n",
       "      <th>21:00:00<\/th>\n",
       "      <td>278865<\/td>\n",
       "      <td>86931<\/td>\n",
       "    <\/tr>\n",
       "    <tr>\n",
       "      <th>22:00:00<\/th>\n",
       "      <td>215141<\/td>\n",
       "      <td>79792<\/td>\n",
       "    <\/tr>\n",
       "    <tr>\n",
       "      <th>23:00:00<\/th>\n",
       "      <td>110286<\/td>\n",
       "      <td>70067<\/td>\n",
       "    <\/tr>\n",
       "  <\/tbody>\n",
       "<\/table>\n",
       "<\/div>"
      ]
     },
     "metadata":{
      
     },
     "output_type":"display_data"
    }
   ],
   "metadata":{
    "datalore":{
     "node_id":"ruruyKMFjiP3gS9AY9uaSg",
     "type":"CODE",
     "hide_input_from_viewers":true,
     "hide_output_from_viewers":true
    }
   }
  },
  {
   "cell_type":"code",
   "source":[
    "mcs = merge_sumsc.plot(x = \"StepTotal\", y = \"Calories\", kind = \"scatter\")\n",
    "\n",
    "sns.regplot(x = merge_sumsc[\"StepTotal\"], y = merge_sumsc[\"Calories\"],ax = mcs, scatter_kws = {'color':'#4c9ec2'}, line_kws= {'color':'red'})\n",
    "plt.title(\"Correlation between sum result of 'StepTotal' and 'Calories' in each hour\")\n",
    "plt.show()"
   ],
   "execution_count":17,
   "outputs":[
    {
     "data":{
      "image\/png":"[encoded data removed]"
     },
     "metadata":{
      "image\/png":{
       
      }
     },
     "output_type":"display_data"
    }
   ],
   "metadata":{
    "datalore":{
     "node_id":"9SFtk1liFu0JfclE7hoU5w",
     "type":"CODE",
     "hide_input_from_viewers":true,
     "hide_output_from_viewers":true
    }
   }
  },
  {
   "cell_type":"markdown",
   "source":[
    "I see a positive correlation between 'StepTotal' and 'Calories', which mean the more participants move more calories they can burn."
   ],
   "attachments":{
    
   },
   "metadata":{
    "datalore":{
     "node_id":"O17KM1K38J5TDbXFmxLEtj",
     "type":"MD",
     "hide_input_from_viewers":true,
     "hide_output_from_viewers":true
    }
   }
  },
  {
   "cell_type":"code",
   "source":[
    "# Let's see a intensity data over the time (Hour)\n",
    "intensities.groupby(\"ActivityHour\")[\"TotalIntensity\"].sum().plot(kind = \"bar\")"
   ],
   "execution_count":18,
   "outputs":[
    {
     "data":{
      "text\/plain":[
       "<Axes: xlabel='ActivityHour'>"
      ]
     },
     "metadata":{
      
     },
     "output_type":"display_data"
    },
    {
     "data":{
      "image\/png":"[encoded data removed]"
     },
     "metadata":{
      "image\/png":{
       
      }
     },
     "output_type":"display_data"
    }
   ],
   "metadata":{
    "datalore":{
     "node_id":"rYBkxqd65gx18g0bgZIleb",
     "type":"CODE",
     "hide_input_from_viewers":true,
     "hide_output_from_viewers":true
    }
   }
  },
  {
   "cell_type":"code",
   "source":[
    "# Let's see a calories data over the time (Hour)\n",
    "calories.groupby(\"ActivityHour\")[\"Calories\"].sum().plot(kind = \"bar\")"
   ],
   "execution_count":19,
   "outputs":[
    {
     "data":{
      "text\/plain":[
       "<Axes: xlabel='ActivityHour'>"
      ]
     },
     "metadata":{
      
     },
     "output_type":"display_data"
    },
    {
     "data":{
      "image\/png":"[encoded data removed]"
     },
     "metadata":{
      "image\/png":{
       
      }
     },
     "output_type":"display_data"
    }
   ],
   "metadata":{
    "datalore":{
     "node_id":"9WZYF3S997LSamYLzWy1Bp",
     "type":"CODE",
     "hide_input_from_viewers":true,
     "hide_output_from_viewers":true
    }
   }
  },
  {
   "cell_type":"markdown",
   "source":[
    "- After visualize these 2 bar chart. I found that participants more active around 5 pm. - 7 pm.  \n",
    "                                                                                            \n",
    "- I can suppose that particants go to gym after they finish a work."
   ],
   "attachments":{
    
   },
   "metadata":{
    "datalore":{
     "node_id":"S85zVC2ljVSkv3q6OKSwBV",
     "type":"MD",
     "hide_input_from_viewers":true,
     "hide_output_from_viewers":true
    }
   }
  },
  {
   "cell_type":"code",
   "source":[
    "# Merge 'Sleepday' and 'Activity \n",
    "merge_act_sleep = pd.merge(sleepday,activity,on = [\"Id\",\"ActivityDate\"])\n",
    "merge_act_sleep"
   ],
   "execution_count":20,
   "outputs":[
    {
     "data":{
      "text\/html":[
       "<div>\n",
       "<style scoped>\n",
       "    .dataframe tbody tr th:only-of-type {\n",
       "        vertical-align: middle;\n",
       "    }\n",
       "\n",
       "    .dataframe tbody tr th {\n",
       "        vertical-align: top;\n",
       "    }\n",
       "\n",
       "    .dataframe thead th {\n",
       "        text-align: right;\n",
       "    }\n",
       "<\/style>\n",
       "<table border=\"1\" class=\"dataframe\">\n",
       "  <thead>\n",
       "    <tr style=\"text-align: right;\">\n",
       "      <th><\/th>\n",
       "      <th>Id<\/th>\n",
       "      <th>ActivityDate<\/th>\n",
       "      <th>TotalSleepRecords<\/th>\n",
       "      <th>TotalMinutesAsleep<\/th>\n",
       "      <th>TotalTimeInBed<\/th>\n",
       "      <th>TotalSteps<\/th>\n",
       "      <th>TotalDistance<\/th>\n",
       "      <th>TrackerDistance<\/th>\n",
       "      <th>LoggedActivitiesDistance<\/th>\n",
       "      <th>VeryActiveDistance<\/th>\n",
       "      <th>ModeratelyActiveDistance<\/th>\n",
       "      <th>LightActiveDistance<\/th>\n",
       "      <th>SedentaryActiveDistance<\/th>\n",
       "      <th>VeryActiveMinutes<\/th>\n",
       "      <th>FairlyActiveMinutes<\/th>\n",
       "      <th>LightlyActiveMinutes<\/th>\n",
       "      <th>SedentaryMinutes<\/th>\n",
       "      <th>Calories<\/th>\n",
       "    <\/tr>\n",
       "  <\/thead>\n",
       "  <tbody>\n",
       "    <tr>\n",
       "      <th>0<\/th>\n",
       "      <td>1503960366<\/td>\n",
       "      <td>2016-04-12<\/td>\n",
       "      <td>1<\/td>\n",
       "      <td>327<\/td>\n",
       "      <td>346<\/td>\n",
       "      <td>13162<\/td>\n",
       "      <td>8.50<\/td>\n",
       "      <td>8.50<\/td>\n",
       "      <td>0.0<\/td>\n",
       "      <td>1.88<\/td>\n",
       "      <td>0.55<\/td>\n",
       "      <td>6.06<\/td>\n",
       "      <td>0.0<\/td>\n",
       "      <td>25<\/td>\n",
       "      <td>13<\/td>\n",
       "      <td>328<\/td>\n",
       "      <td>728<\/td>\n",
       "      <td>1985<\/td>\n",
       "    <\/tr>\n",
       "    <tr>\n",
       "      <th>1<\/th>\n",
       "      <td>1503960366<\/td>\n",
       "      <td>2016-04-13<\/td>\n",
       "      <td>2<\/td>\n",
       "      <td>384<\/td>\n",
       "      <td>407<\/td>\n",
       "      <td>10735<\/td>\n",
       "      <td>6.97<\/td>\n",
       "      <td>6.97<\/td>\n",
       "      <td>0.0<\/td>\n",
       "      <td>1.57<\/td>\n",
       "      <td>0.69<\/td>\n",
       "      <td>4.71<\/td>\n",
       "      <td>0.0<\/td>\n",
       "      <td>21<\/td>\n",
       "      <td>19<\/td>\n",
       "      <td>217<\/td>\n",
       "      <td>776<\/td>\n",
       "      <td>1797<\/td>\n",
       "    <\/tr>\n",
       "    <tr>\n",
       "      <th>2<\/th>\n",
       "      <td>1503960366<\/td>\n",
       "      <td>2016-04-15<\/td>\n",
       "      <td>1<\/td>\n",
       "      <td>412<\/td>\n",
       "      <td>442<\/td>\n",
       "      <td>9762<\/td>\n",
       "      <td>6.28<\/td>\n",
       "      <td>6.28<\/td>\n",
       "      <td>0.0<\/td>\n",
       "      <td>2.14<\/td>\n",
       "      <td>1.26<\/td>\n",
       "      <td>2.83<\/td>\n",
       "      <td>0.0<\/td>\n",
       "      <td>29<\/td>\n",
       "      <td>34<\/td>\n",
       "      <td>209<\/td>\n",
       "      <td>726<\/td>\n",
       "      <td>1745<\/td>\n",
       "    <\/tr>\n",
       "    <tr>\n",
       "      <th>3<\/th>\n",
       "      <td>1503960366<\/td>\n",
       "      <td>2016-04-16<\/td>\n",
       "      <td>2<\/td>\n",
       "      <td>340<\/td>\n",
       "      <td>367<\/td>\n",
       "      <td>12669<\/td>\n",
       "      <td>8.16<\/td>\n",
       "      <td>8.16<\/td>\n",
       "      <td>0.0<\/td>\n",
       "      <td>2.71<\/td>\n",
       "      <td>0.41<\/td>\n",
       "      <td>5.04<\/td>\n",
       "      <td>0.0<\/td>\n",
       "      <td>36<\/td>\n",
       "      <td>10<\/td>\n",
       "      <td>221<\/td>\n",
       "      <td>773<\/td>\n",
       "      <td>1863<\/td>\n",
       "    <\/tr>\n",
       "    <tr>\n",
       "      <th>4<\/th>\n",
       "      <td>1503960366<\/td>\n",
       "      <td>2016-04-17<\/td>\n",
       "      <td>1<\/td>\n",
       "      <td>700<\/td>\n",
       "      <td>712<\/td>\n",
       "      <td>9705<\/td>\n",
       "      <td>6.48<\/td>\n",
       "      <td>6.48<\/td>\n",
       "      <td>0.0<\/td>\n",
       "      <td>3.19<\/td>\n",
       "      <td>0.78<\/td>\n",
       "      <td>2.51<\/td>\n",
       "      <td>0.0<\/td>\n",
       "      <td>38<\/td>\n",
       "      <td>20<\/td>\n",
       "      <td>164<\/td>\n",
       "      <td>539<\/td>\n",
       "      <td>1728<\/td>\n",
       "    <\/tr>\n",
       "    <tr>\n",
       "      <th>...<\/th>\n",
       "      <td>...<\/td>\n",
       "      <td>...<\/td>\n",
       "      <td>...<\/td>\n",
       "      <td>...<\/td>\n",
       "      <td>...<\/td>\n",
       "      <td>...<\/td>\n",
       "      <td>...<\/td>\n",
       "      <td>...<\/td>\n",
       "      <td>...<\/td>\n",
       "      <td>...<\/td>\n",
       "      <td>...<\/td>\n",
       "      <td>...<\/td>\n",
       "      <td>...<\/td>\n",
       "      <td>...<\/td>\n",
       "      <td>...<\/td>\n",
       "      <td>...<\/td>\n",
       "      <td>...<\/td>\n",
       "      <td>...<\/td>\n",
       "    <\/tr>\n",
       "    <tr>\n",
       "      <th>408<\/th>\n",
       "      <td>8792009665<\/td>\n",
       "      <td>2016-04-30<\/td>\n",
       "      <td>1<\/td>\n",
       "      <td>343<\/td>\n",
       "      <td>360<\/td>\n",
       "      <td>7174<\/td>\n",
       "      <td>4.59<\/td>\n",
       "      <td>4.59<\/td>\n",
       "      <td>0.0<\/td>\n",
       "      <td>0.33<\/td>\n",
       "      <td>0.36<\/td>\n",
       "      <td>3.91<\/td>\n",
       "      <td>0.0<\/td>\n",
       "      <td>10<\/td>\n",
       "      <td>20<\/td>\n",
       "      <td>301<\/td>\n",
       "      <td>749<\/td>\n",
       "      <td>2896<\/td>\n",
       "    <\/tr>\n",
       "    <tr>\n",
       "      <th>409<\/th>\n",
       "      <td>8792009665<\/td>\n",
       "      <td>2016-05-01<\/td>\n",
       "      <td>1<\/td>\n",
       "      <td>503<\/td>\n",
       "      <td>527<\/td>\n",
       "      <td>1619<\/td>\n",
       "      <td>1.04<\/td>\n",
       "      <td>1.04<\/td>\n",
       "      <td>0.0<\/td>\n",
       "      <td>0.00<\/td>\n",
       "      <td>0.00<\/td>\n",
       "      <td>1.04<\/td>\n",
       "      <td>0.0<\/td>\n",
       "      <td>0<\/td>\n",
       "      <td>0<\/td>\n",
       "      <td>79<\/td>\n",
       "      <td>834<\/td>\n",
       "      <td>1962<\/td>\n",
       "    <\/tr>\n",
       "    <tr>\n",
       "      <th>410<\/th>\n",
       "      <td>8792009665<\/td>\n",
       "      <td>2016-05-02<\/td>\n",
       "      <td>1<\/td>\n",
       "      <td>415<\/td>\n",
       "      <td>423<\/td>\n",
       "      <td>1831<\/td>\n",
       "      <td>1.17<\/td>\n",
       "      <td>1.17<\/td>\n",
       "      <td>0.0<\/td>\n",
       "      <td>0.00<\/td>\n",
       "      <td>0.00<\/td>\n",
       "      <td>1.17<\/td>\n",
       "      <td>0.0<\/td>\n",
       "      <td>0<\/td>\n",
       "      <td>0<\/td>\n",
       "      <td>101<\/td>\n",
       "      <td>916<\/td>\n",
       "      <td>2015<\/td>\n",
       "    <\/tr>\n",
       "    <tr>\n",
       "      <th>411<\/th>\n",
       "      <td>8792009665<\/td>\n",
       "      <td>2016-05-03<\/td>\n",
       "      <td>1<\/td>\n",
       "      <td>516<\/td>\n",
       "      <td>545<\/td>\n",
       "      <td>2421<\/td>\n",
       "      <td>1.55<\/td>\n",
       "      <td>1.55<\/td>\n",
       "      <td>0.0<\/td>\n",
       "      <td>0.00<\/td>\n",
       "      <td>0.00<\/td>\n",
       "      <td>1.55<\/td>\n",
       "      <td>0.0<\/td>\n",
       "      <td>0<\/td>\n",
       "      <td>0<\/td>\n",
       "      <td>156<\/td>\n",
       "      <td>739<\/td>\n",
       "      <td>2297<\/td>\n",
       "    <\/tr>\n",
       "    <tr>\n",
       "      <th>412<\/th>\n",
       "      <td>8792009665<\/td>\n",
       "      <td>2016-05-04<\/td>\n",
       "      <td>1<\/td>\n",
       "      <td>439<\/td>\n",
       "      <td>463<\/td>\n",
       "      <td>2283<\/td>\n",
       "      <td>1.46<\/td>\n",
       "      <td>1.46<\/td>\n",
       "      <td>0.0<\/td>\n",
       "      <td>0.00<\/td>\n",
       "      <td>0.00<\/td>\n",
       "      <td>1.46<\/td>\n",
       "      <td>0.0<\/td>\n",
       "      <td>0<\/td>\n",
       "      <td>0<\/td>\n",
       "      <td>129<\/td>\n",
       "      <td>848<\/td>\n",
       "      <td>2067<\/td>\n",
       "    <\/tr>\n",
       "  <\/tbody>\n",
       "<\/table>\n",
       "<p>413 rows × 18 columns<\/p>\n",
       "<\/div>"
      ]
     },
     "metadata":{
      
     },
     "output_type":"display_data"
    }
   ],
   "metadata":{
    "datalore":{
     "node_id":"2FOEAhUDmRkFW9UD6oipc1",
     "type":"CODE",
     "hide_input_from_viewers":true,
     "hide_output_from_viewers":true
    }
   }
  },
  {
   "cell_type":"code",
   "source":[
    "msa = merge_act_sleep.plot(x = \"TotalMinutesAsleep\",y = \"SedentaryMinutes\", kind = \"scatter\")\n",
    "\n",
    "sns.regplot(x = merge_act_sleep[\"TotalMinutesAsleep\"],y=merge_act_sleep[\"SedentaryMinutes\"],ax = msa, scatter_kws = {'color':'#4c9ec2'},line_kws={'color':'red'})\n",
    "plt.title(\"Correlation between 'TotalMinutesAsleep' and 'SedentaryMinutes'\")\n",
    "plt.show()"
   ],
   "execution_count":21,
   "outputs":[
    {
     "data":{
      "image\/png":"[encoded data removed]"
     },
     "metadata":{
      "image\/png":{
       
      }
     },
     "output_type":"display_data"
    }
   ],
   "metadata":{
    "datalore":{
     "node_id":"CNL85ZMT5aeIgJ8aWB47P0",
     "type":"CODE",
     "hide_input_from_viewers":true,
     "hide_output_from_viewers":true
    }
   }
  },
  {
   "cell_type":"markdown",
   "source":[
    "- I can see a negative correlation between 'TotalMinutesAsleep' and 'SedentaryMinutes'.\n",
    "- I can ask some other question like \"Does more exercise result in less sleep ?\". Keep in mind that we need to support this insights with more data."
   ],
   "attachments":{
    
   },
   "metadata":{
    "datalore":{
     "node_id":"htnCIk4ls03vIKgPu999tU",
     "type":"MD",
     "hide_input_from_viewers":true,
     "hide_output_from_viewers":true
    }
   }
  },
  {
   "cell_type":"markdown",
   "source":[
    "## Let's see a type of 'Activity' that participants spend time with"
   ],
   "attachments":{
    
   },
   "metadata":{
    "datalore":{
     "node_id":"DwyiQURsVOtmwVi3VyzXE3",
     "type":"MD",
     "hide_input_from_viewers":true,
     "hide_output_from_viewers":true
    }
   }
  },
  {
   "cell_type":"code",
   "source":[
    "activity[[\"SedentaryMinutes\",\"LightlyActiveMinutes\",\"FairlyActiveMinutes\",\"VeryActiveMinutes\"]].sum().plot(kind = \"bar\")"
   ],
   "execution_count":22,
   "outputs":[
    {
     "data":{
      "text\/plain":[
       "<Axes: >"
      ]
     },
     "metadata":{
      
     },
     "output_type":"display_data"
    },
    {
     "data":{
      "image\/png":"[encoded data removed]"
     },
     "metadata":{
      "image\/png":{
       
      }
     },
     "output_type":"display_data"
    }
   ],
   "metadata":{
    "datalore":{
     "node_id":"FcSUMmTj3J2vhaYLRmKgsd",
     "type":"CODE",
     "hide_input_from_viewers":true,
     "hide_output_from_viewers":true
    }
   }
  },
  {
   "cell_type":"code",
   "source":[
    "activity[[\"SedentaryMinutes\",\"LightlyActiveMinutes\",\"FairlyActiveMinutes\",\"VeryActiveMinutes\"]].sum()\/60"
   ],
   "execution_count":23,
   "outputs":[
    {
     "data":{
      "text\/html":[
       "<pre>SedentaryMinutes        15528.966667\n",
       "LightlyActiveMinutes     3020.733333\n",
       "FairlyActiveMinutes       212.516667\n",
       "VeryActiveMinutes         331.583333\n",
       "dtype: float64<\/pre>"
      ]
     },
     "metadata":{
      
     },
     "output_type":"display_data"
    }
   ],
   "metadata":{
    "datalore":{
     "node_id":"BFiwVM0fHBwRNVPaWyBjL7",
     "type":"CODE",
     "hide_input_from_viewers":true,
     "hide_output_from_viewers":true
    }
   }
  },
  {
   "cell_type":"markdown",
   "source":[
    "- participants spend most time on 'SedentaryActive', which mean they do some light activity to stay healthy."
   ],
   "attachments":{
    
   },
   "metadata":{
    "datalore":{
     "node_id":"Yyx9VbjgxjXbgVnaNxwjSs",
     "type":"MD",
     "hide_input_from_viewers":true,
     "hide_output_from_viewers":true
    }
   }
  },
  {
   "cell_type":"markdown",
   "source":[
    "# Summarizing recommendations for the business\n",
    "\n",
    "As we already know, collecting data on activity has allowed Bellabeat to encourage women with knowledge about their own health and habits\n",
    "\n",
    "After analyzing FitBit Fitness Tracker Data, I found some insights that would help Bellabeat enhancing marketing strategy for optimal company growth opportunities.\n",
    "\n",
    "### Target Audience\n",
    "Woman who work full-time job (according to the hourly intensity data) and work a lot with computer or work that the are doing (according to the sedentary time data)\n",
    "\n",
    "These woman do a light exercise to stay heathy (according to the most time they spend in 'Activity'). They might need some knowledge or inspriration to increase more exercise for better health.\n",
    "\n",
    "### Idea for help influence Bellabeat marketing strategy \n",
    "- I found insight that participants walk around 7638. Which little bit less for having health benefits for according to the CDC research. Bellabeat may have notify some message on their smart device or launch some campaign to motivate woman out of their table or computer for walk around or do some activity for good health.\n",
    "\n",
    "- Participants in these dataset didn't sleep less than 7-8 hour per day according to the CDC research. Getting enough sleep is a one way to a good health. Bellabeat can improve customer sleep by app notification to make customer know which time they should go to sleep or create some message to display on smart device like 'Sleep atleast 7 hour per day can make you healthy' for better health of their customer.\n",
    "\n",
    "- Based on analysis of these dataset, Participants spend most time on 'SedentaryActive' level. If Bellabeat want their customer to exercise more. They can set a level of intensity like 'Today you've burned 250 calories, Another 150 calories you'll be on a LightlyActive level' and summarise calories their burned in the end of month. If customer reach to a calories that they set customer will get some reward like voucher or discount of their product. Campaign like these maybe can make a new customer and good health for old customer.    "
   ],
   "attachments":{
    
   },
   "metadata":{
    "datalore":{
     "node_id":"OaE3zU85zxJJUkMTyJXO2c",
     "type":"MD",
     "hide_input_from_viewers":true,
     "hide_output_from_viewers":true
    }
   }
  }
 ],
 "metadata":{
  "kernelspec":{
   "display_name":"Python",
   "language":"python",
   "name":"python"
  },
  "datalore":{
   "computation_mode":"JUPYTER",
   "package_manager":"pip",
   "base_environment":"default",
   "packages":[
    
   ],
   "report_row_ids":[
    
   ],
   "version":3
  }
 },
 "nbformat":4,
 "nbformat_minor":4
}