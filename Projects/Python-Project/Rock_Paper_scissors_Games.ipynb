{
  "nbformat": 4,
  "nbformat_minor": 0,
  "metadata": {
    "colab": {
      "provenance": [],
      "authorship_tag": "ABX9TyNep/1vTNLECRIg4ulnIkzc",
      "include_colab_link": true
    },
    "kernelspec": {
      "name": "python3",
      "display_name": "Python 3"
    },
    "language_info": {
      "name": "python"
    }
  },
  "cells": [
    {
      "cell_type": "markdown",
      "metadata": {
        "id": "view-in-github",
        "colab_type": "text"
      },
      "source": [
        "<a href=\"https://colab.research.google.com/github/Pknnut/data-science-bootcamp-8/blob/main/Projects/Python-Project/Rock_Paper_scissors_Games.ipynb\" target=\"_parent\"><img src=\"https://colab.research.google.com/assets/colab-badge.svg\" alt=\"Open In Colab\"/></a>"
      ]
    },
    {
      "cell_type": "code",
      "execution_count": 52,
      "metadata": {
        "colab": {
          "base_uri": "https://localhost:8080/"
        },
        "id": "3wZxmUhwBS95",
        "outputId": "e15dbd41-57b1-448b-97e2-b811ac60d307"
      },
      "outputs": [
        {
          "output_type": "stream",
          "name": "stdout",
          "text": [
            "Enter your chioce (Rock, Paper, Scissors or Quit): rock\n",
            "Logs: ['Rock']\n",
            "Computer chose: Paper\n",
            "You Lose!\n",
            "Enter your chioce (Rock, Paper, Scissors or Quit): paper\n",
            "Logs: ['Rock', 'Paper']\n",
            "Computer chose: Scissors\n",
            "You Lose!\n",
            "Enter your chioce (Rock, Paper, Scissors or Quit): scissors\n",
            "Logs: ['Rock', 'Paper', 'Scissors']\n",
            "Computer chose: Rock\n",
            "You Lose!\n",
            "Enter your chioce (Rock, Paper, Scissors or Quit): quit\n",
            "Logs: ['Rock', 'Paper', 'Scissors', 'Quit']\n",
            "See you next time!\n"
          ]
        }
      ],
      "source": [
        "# one turn in game\n",
        "\n",
        "import random\n",
        "\n",
        "def get_user_choice() :\n",
        "    user_choice = input(\"Enter your chioce (Rock, Paper, Scissors or Quit): \").capitalize()\n",
        "    return user_choice\n",
        "\n",
        "def get_computer_choice():\n",
        "    choices = [\"Rock\",\"Paper\",\"Scissors\"]\n",
        "    computer_choice = random.choice(choices)\n",
        "    return computer_choice\n",
        "\n",
        "def determine_winner(user_choice,computer_choice):\n",
        "    if user_choice == computer_choice :\n",
        "        return \"It's a Tie!\"\n",
        "    elif (user_choice == \"Rock\" and computer_choice == \"Scissors\") or \\\n",
        "         (user_choice == \"Paper\" and computer_choice == \"Rock\") or \\\n",
        "         (user_choice == \"Scissors\" and computer_choice == \"Paper\") :\n",
        "         return \"You Win!\"\n",
        "    else :\n",
        "        return \"You Lose!\"\n",
        "\n",
        "def play_game():\n",
        "    answer = []\n",
        "    while True:\n",
        "        user_choice = get_user_choice()\n",
        "        answer.append(user_choice)\n",
        "        print(f\"Logs: {answer}\")\n",
        "        if user_choice not in [\"Rock\",\"Paper\",\"Scissors\",\"Quit\"]:\n",
        "            print(\"Invalid choice. Please choose Rock, Paper, Scissors\")\n",
        "            continue\n",
        "\n",
        "        if user_choice == \"Quit\":\n",
        "            print(\"See you next time!\")\n",
        "            break\n",
        "\n",
        "        computer_choice = get_computer_choice()\n",
        "        print (f\"Computer chose: {computer_choice}\")\n",
        "\n",
        "        result = determine_winner(user_choice,computer_choice)\n",
        "        print(result)\n",
        "\n",
        "play_game()"
      ]
    },
    {
      "cell_type": "code",
      "source": [
        "# 3 out of 5 games for win\n",
        "\n",
        "import random\n",
        "\n",
        "def get_user_choice() :\n",
        "    user_choice = input(\"Enter your chioce (Rock, Paper, Scissors or Quit): \").capitalize()\n",
        "    return user_choice\n",
        "\n",
        "def get_computer_choice():\n",
        "    choices = [\"Rock\",\"Paper\",\"Scissors\"]\n",
        "    computer_choice = random.choice(choices)\n",
        "    return computer_choice\n",
        "\n",
        "def determine_winner(user_choice,computer_choice):\n",
        "    if user_choice == computer_choice :\n",
        "        return \"It's a Tie!\"\n",
        "    elif (user_choice == \"Rock\" and computer_choice == \"Scissors\") or \\\n",
        "         (user_choice == \"Paper\" and computer_choice == \"Rock\") or \\\n",
        "         (user_choice == \"Scissors\" and computer_choice == \"Paper\") :\n",
        "         return \"You Win!\"\n",
        "    else :\n",
        "        return \"You Lose!\"\n",
        "\n",
        "def play_game():\n",
        "    while True:\n",
        "        win_count = 0\n",
        "        lose_count = 0\n",
        "        tie_count = 0\n",
        "        game_count = 0\n",
        "        answer = []\n",
        "\n",
        "        while game_count < 5:\n",
        "            user_choice = get_user_choice()\n",
        "            answer.append(user_choice)\n",
        "            print(f\"Your answer: {answer}\")\n",
        "\n",
        "            if user_choice not in [\"Rock\",\"Paper\",\"Scissors\",\"Quit\"]:\n",
        "                print(\"Invalid choice. Please choose Rock, Paper, Scissors or Quit.\")\n",
        "                continue\n",
        "\n",
        "            if user_choice == \"Quit\":\n",
        "                print(\"See you next time.\")\n",
        "                return\n",
        "\n",
        "            computer_choice = get_computer_choice()\n",
        "            print(f\"Computer choice: {computer_choice}\")\n",
        "\n",
        "            result = determine_winner(user_choice,computer_choice)\n",
        "            print(result)\n",
        "\n",
        "            if \"Win\" in result:\n",
        "                win_count += 1\n",
        "            elif \"Lose\" in result:\n",
        "                lose_count += 1\n",
        "            elif \"Tie\" in result:\n",
        "                tie_count += 1\n",
        "\n",
        "            game_count += 1\n",
        "\n",
        "            if win_count == 3 or lose_count == 3 or tie_count == 3:\n",
        "                break\n",
        "\n",
        "        if win_count == 3:\n",
        "            print(\"You won 3 out of 5 games. Congratulation!\")\n",
        "        elif lose_count == 3:\n",
        "            print(\"You lose 3 out of 5 games. Better luck next time!\")\n",
        "\n",
        "        if tie_count == 3:\n",
        "            print(\"Game Tie.\")\n",
        "\n",
        "        if (win_count !=3 and lose_count !=3) and (tie_count == 1 or tie_count ==2):\n",
        "            print(\"Can't find a winner.\")\n",
        "\n",
        "        while True:\n",
        "            play_again = input(\"Do you want to play again? (Yes/No): \").capitalize()\n",
        "            if play_again == \"Yes\" or play_again == \"No\":\n",
        "                break\n",
        "            else :\n",
        "                print(\"Invalid answer. Please choose Yes or No.\")\n",
        "\n",
        "        if play_again != \"Yes\":\n",
        "            print(\"See you next time!\")\n",
        "            break\n",
        "\n",
        "play_game()\n",
        "\n",
        ""
      ],
      "metadata": {
        "colab": {
          "base_uri": "https://localhost:8080/"
        },
        "id": "UJ1Q90RqJB1f",
        "outputId": "e2b34696-1f00-46c9-a3fb-510468d83239"
      },
      "execution_count": 51,
      "outputs": [
        {
          "output_type": "stream",
          "name": "stdout",
          "text": [
            "Enter your chioce (Rock, Paper, Scissors or Quit): rock\n",
            "Your answer: ['Rock']\n",
            "Computer choice: Rock\n",
            "It's a Tie!\n",
            "Enter your chioce (Rock, Paper, Scissors or Quit): paper\n",
            "Your answer: ['Rock', 'Paper']\n",
            "Computer choice: Scissors\n",
            "You Lose!\n",
            "Enter your chioce (Rock, Paper, Scissors or Quit): scissors\n",
            "Your answer: ['Rock', 'Paper', 'Scissors']\n",
            "Computer choice: Scissors\n",
            "It's a Tie!\n",
            "Enter your chioce (Rock, Paper, Scissors or Quit): afgag\n",
            "Your answer: ['Rock', 'Paper', 'Scissors', 'Afgag']\n",
            "Invalid choice. Please choose Rock, Paper, Scissors or Quit.\n",
            "Enter your chioce (Rock, Paper, Scissors or Quit): paper\n",
            "Your answer: ['Rock', 'Paper', 'Scissors', 'Afgag', 'Paper']\n",
            "Computer choice: Rock\n",
            "You Win!\n",
            "Enter your chioce (Rock, Paper, Scissors or Quit): scissors\n",
            "Your answer: ['Rock', 'Paper', 'Scissors', 'Afgag', 'Paper', 'Scissors']\n",
            "Computer choice: Rock\n",
            "You Lose!\n",
            "Can't find a winner.\n",
            "Do you want to play again? (Yes/No): hiadghga\n",
            "Invalid answer. Please choose Yes or No.\n",
            "Do you want to play again? (Yes/No): no\n",
            "See you next time!\n"
          ]
        }
      ]
    },
    {
      "cell_type": "code",
      "source": [],
      "metadata": {
        "id": "9-PCXAIQnEWe"
      },
      "execution_count": null,
      "outputs": []
    }
  ]
}