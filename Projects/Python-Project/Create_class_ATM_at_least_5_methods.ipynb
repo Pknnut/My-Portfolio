{
  "nbformat": 4,
  "nbformat_minor": 0,
  "metadata": {
    "colab": {
      "provenance": [],
      "authorship_tag": "ABX9TyPZlWv1FD9rojlOy/9jOfPj",
      "include_colab_link": true
    },
    "kernelspec": {
      "name": "python3",
      "display_name": "Python 3"
    },
    "language_info": {
      "name": "python"
    }
  },
  "cells": [
    {
      "cell_type": "markdown",
      "metadata": {
        "id": "view-in-github",
        "colab_type": "text"
      },
      "source": [
        "<a href=\"https://colab.research.google.com/github/Pknnut/data-science-bootcamp-8/blob/main/Projects/Python-Project/Create_class_ATM_at_least_5_methods.ipynb\" target=\"_parent\"><img src=\"https://colab.research.google.com/assets/colab-badge.svg\" alt=\"Open In Colab\"/></a>"
      ]
    },
    {
      "cell_type": "code",
      "execution_count": 56,
      "metadata": {
        "id": "pCO6zdjt9XLf"
      },
      "outputs": [],
      "source": [
        "class ATM :\n",
        "    def __init__(self,account_number,balance = 0):\n",
        "        self.account_number = account_number\n",
        "        self.balance = balance\n",
        "        self.password = input(\"Insert your pin for your account: \")\n",
        "\n",
        "\n",
        "    def check_balance(self) :\n",
        "        return self.balance\n",
        "\n",
        "    def deposit(self,amount) :\n",
        "        self.balance += amount\n",
        "        return f'Deposit {amount} dollars. New balance is {self.balance} dollars.'\n",
        "\n",
        "    def withdraw(self,amount) :\n",
        "        if amount > self.balance:\n",
        "            return \"Insufficient funds\"\n",
        "        else :\n",
        "            self.balance -= amount\n",
        "            return f'Withdrawn {amount} dollars. New balance is {self.balance} dollars'\n",
        "\n",
        "    def transfer(self,recipient,amount) :\n",
        "        if amount > self.balance:\n",
        "            return \"Insufficient funds\"\n",
        "        else:\n",
        "            self.balance -= amount\n",
        "            recipient.deposit(amount)\n",
        "            return f'Transferred {amount} dollars to {recipient}. New balance is {self.balance} dollars'\n",
        "\n",
        "    def change_pin(self):\n",
        "        self.new_pin = input(\"Create your new pin for your account: \")\n",
        "        return f'Your pin has changed to : {self.new_pin}'\n",
        "\n"
      ]
    },
    {
      "cell_type": "code",
      "source": [
        "account1 = ATM(234-14534-7,100000)"
      ],
      "metadata": {
        "colab": {
          "base_uri": "https://localhost:8080/"
        },
        "id": "i-k5LEXJYDfo",
        "outputId": "f53a90f4-0977-4153-82c7-ad29d9fcd342"
      },
      "execution_count": 76,
      "outputs": [
        {
          "name": "stdout",
          "output_type": "stream",
          "text": [
            "Insert your pin for your account: 123456\n"
          ]
        }
      ]
    },
    {
      "cell_type": "code",
      "source": [
        "account1.check_balance()"
      ],
      "metadata": {
        "colab": {
          "base_uri": "https://localhost:8080/"
        },
        "id": "cQOOOUk2YgPc",
        "outputId": "11268244-8bc3-4306-948b-714954d2821e"
      },
      "execution_count": 77,
      "outputs": [
        {
          "output_type": "execute_result",
          "data": {
            "text/plain": [
              "100000"
            ]
          },
          "metadata": {},
          "execution_count": 77
        }
      ]
    },
    {
      "cell_type": "code",
      "source": [
        "account1.deposit(10000)"
      ],
      "metadata": {
        "colab": {
          "base_uri": "https://localhost:8080/",
          "height": 36
        },
        "id": "nYtN3g4tYqUl",
        "outputId": "ae10ad78-258b-4dc5-edef-15027cae1e61"
      },
      "execution_count": 78,
      "outputs": [
        {
          "output_type": "execute_result",
          "data": {
            "text/plain": [
              "'Deposit 10000 dollars. New balance is 110000 dollars.'"
            ],
            "application/vnd.google.colaboratory.intrinsic+json": {
              "type": "string"
            }
          },
          "metadata": {},
          "execution_count": 78
        }
      ]
    },
    {
      "cell_type": "code",
      "source": [
        "account1.withdraw(53500)"
      ],
      "metadata": {
        "colab": {
          "base_uri": "https://localhost:8080/",
          "height": 36
        },
        "id": "QoOc_9rFjH1k",
        "outputId": "09b54fbb-e6f7-4ffa-81cf-cb26229eb9ab"
      },
      "execution_count": 79,
      "outputs": [
        {
          "output_type": "execute_result",
          "data": {
            "text/plain": [
              "'Withdrawn 53500 dollars. New balance is 56500 dollars'"
            ],
            "application/vnd.google.colaboratory.intrinsic+json": {
              "type": "string"
            }
          },
          "metadata": {},
          "execution_count": 79
        }
      ]
    },
    {
      "cell_type": "code",
      "source": [
        "account2 = ATM(873-67763-5,23000)"
      ],
      "metadata": {
        "colab": {
          "base_uri": "https://localhost:8080/"
        },
        "id": "mQknKpcyjO_t",
        "outputId": "d87be4da-3ebc-464a-ad0a-1fa05582925d"
      },
      "execution_count": 80,
      "outputs": [
        {
          "name": "stdout",
          "output_type": "stream",
          "text": [
            "Insert your pin for your account: 432552\n"
          ]
        }
      ]
    },
    {
      "cell_type": "code",
      "source": [
        "account1.transfer(account2,20000)"
      ],
      "metadata": {
        "colab": {
          "base_uri": "https://localhost:8080/",
          "height": 36
        },
        "id": "0Uf-k75JjUyn",
        "outputId": "f2eb1f9b-78d4-4b40-a77c-7ac8b787afc9"
      },
      "execution_count": 81,
      "outputs": [
        {
          "output_type": "execute_result",
          "data": {
            "text/plain": [
              "'Transferred 20000 dollars to <__main__.ATM object at 0x7903bf9ebb80>. New balance is 36500 dollars'"
            ],
            "application/vnd.google.colaboratory.intrinsic+json": {
              "type": "string"
            }
          },
          "metadata": {},
          "execution_count": 81
        }
      ]
    },
    {
      "cell_type": "code",
      "source": [
        "account2.check_balance()"
      ],
      "metadata": {
        "colab": {
          "base_uri": "https://localhost:8080/"
        },
        "id": "FEX91A6Ajkp7",
        "outputId": "d9d9413a-9cad-466c-d540-34147fe79dd5"
      },
      "execution_count": 82,
      "outputs": [
        {
          "output_type": "execute_result",
          "data": {
            "text/plain": [
              "43000"
            ]
          },
          "metadata": {},
          "execution_count": 82
        }
      ]
    },
    {
      "cell_type": "code",
      "source": [
        "account1.change_pin()\n"
      ],
      "metadata": {
        "colab": {
          "base_uri": "https://localhost:8080/",
          "height": 54
        },
        "id": "0jH5ri7HxkWF",
        "outputId": "5a0c1581-a85a-41c2-ca9f-0ff5b512bdc5"
      },
      "execution_count": 83,
      "outputs": [
        {
          "name": "stdout",
          "output_type": "stream",
          "text": [
            "Create your new pin for your account: 897643\n"
          ]
        },
        {
          "output_type": "execute_result",
          "data": {
            "text/plain": [
              "'Your pin has changed to : 897643'"
            ],
            "application/vnd.google.colaboratory.intrinsic+json": {
              "type": "string"
            }
          },
          "metadata": {},
          "execution_count": 83
        }
      ]
    },
    {
      "cell_type": "code",
      "source": [],
      "metadata": {
        "id": "eTmpuS8t0gtX"
      },
      "execution_count": null,
      "outputs": []
    }
  ]
}